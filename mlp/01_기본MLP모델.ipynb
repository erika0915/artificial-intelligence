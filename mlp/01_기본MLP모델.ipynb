{
  "nbformat": 4,
  "nbformat_minor": 0,
  "metadata": {
    "colab": {
      "provenance": [],
      "authorship_tag": "ABX9TyMDK2EFZ6qMwZGJDiV1n+oR",
      "include_colab_link": true
    },
    "kernelspec": {
      "name": "python3",
      "display_name": "Python 3"
    },
    "language_info": {
      "name": "python"
    }
  },
  "cells": [
    {
      "cell_type": "markdown",
      "metadata": {
        "id": "view-in-github",
        "colab_type": "text"
      },
      "source": [
        "<a href=\"https://colab.research.google.com/github/erika0915/artificial-intelligence/blob/main/mlp/01_%EA%B8%B0%EB%B3%B8MLP%EB%AA%A8%EB%8D%B8.ipynb\" target=\"_parent\"><img src=\"https://colab.research.google.com/assets/colab-badge.svg\" alt=\"Open In Colab\"/></a>"
      ]
    },
    {
      "cell_type": "markdown",
      "source": [
        "기본 MLP\n",
        "- 은닉층 1개, 유닛 수 32개\n",
        "- 활성화 함수 : Sigmoid\n",
        "- 옵티마이저 : SGD(lr = 0.1)"
      ],
      "metadata": {
        "id": "rL1ahP1uEvXQ"
      }
    },
    {
      "cell_type": "code",
      "execution_count": 1,
      "metadata": {
        "colab": {
          "base_uri": "https://localhost:8080/",
          "height": 782
        },
        "id": "PJe-f3cXDvpW",
        "outputId": "9788e59d-48cd-4dcc-abdd-f0976a4feb2e"
      },
      "outputs": [
        {
          "output_type": "stream",
          "name": "stderr",
          "text": [
            "100%|██████████| 9.91M/9.91M [00:01<00:00, 6.07MB/s]\n",
            "100%|██████████| 28.9k/28.9k [00:00<00:00, 159kB/s]\n",
            "100%|██████████| 1.65M/1.65M [00:01<00:00, 1.52MB/s]\n",
            "100%|██████████| 4.54k/4.54k [00:00<00:00, 5.56MB/s]\n"
          ]
        },
        {
          "output_type": "stream",
          "name": "stdout",
          "text": [
            "Epoch [1/10]  Loss: 0.5915\n",
            "Epoch [2/10]  Loss: 0.2749\n",
            "Epoch [3/10]  Loss: 0.2269\n",
            "Epoch [4/10]  Loss: 0.1994\n",
            "Epoch [5/10]  Loss: 0.1801\n",
            "Epoch [6/10]  Loss: 0.1654\n",
            "Epoch [7/10]  Loss: 0.1537\n",
            "Epoch [8/10]  Loss: 0.1444\n",
            "Epoch [9/10]  Loss: 0.1367\n",
            "Epoch [10/10]  Loss: 0.1296\n",
            "\n",
            "총 학습 시간: 140.38초\n",
            "Test Loss: 0.1444 | Accuracy: 95.85%\n"
          ]
        },
        {
          "output_type": "display_data",
          "data": {
            "text/plain": [
              "<Figure size 640x480 with 1 Axes>"
            ],
            "image/png": "[encoded data removed]"
          },
          "metadata": {}
        }
      ],
      "source": [
        "import time\n",
        "import torch\n",
        "import torch.nn as nn\n",
        "import torch.optim as optim\n",
        "import torchvision\n",
        "import torchvision.transforms as transforms\n",
        "import matplotlib.pyplot as plt\n",
        "\n",
        "# 1. 데이터 전처리 & 로더 구축\n",
        "transform = transforms.Compose([\n",
        "    transforms.ToTensor(),                      # 이미지를 Tensor로 변환\n",
        "    transforms.Normalize((0.1307,), (0.3081,))  # 픽셀 정규화\n",
        "])\n",
        "\n",
        "# 훈련 데이터셋 다운로드 및 로딩\n",
        "trainset = torchvision.datasets.MNIST(root='./data', train=True, download=True, transform=transform)\n",
        "trainloader = torch.utils.data.DataLoader(trainset, batch_size=64, shuffle=True)\n",
        "\n",
        "# 테스트 데이터셋 다운로드 및 로딩\n",
        "testset = torchvision.datasets.MNIST(root='./data', train=False, download=True, transform=transform)\n",
        "testloader = torch.utils.data.DataLoader(testset, batch_size=1000, shuffle=False)\n",
        "\n",
        "\n",
        "# 2. 2‑layer MLP 모델 정의\n",
        "class MLP(nn.Module):\n",
        "    def __init__(self):\n",
        "        super().__init__()\n",
        "        self.flatten = nn.Flatten()           # (B, 1, 28, 28) → (B, 784)\n",
        "        self.fc1 = nn.Linear(28*28, 32)       # 은닉층 32 units\n",
        "        self.act = nn.Sigmoid()               # 시그모이드 활성화\n",
        "        self.fc2 = nn.Linear(32, 10)          # 출력층 (10개 클래스)\n",
        "\n",
        "    def forward(self, x):\n",
        "        x = self.flatten(x)\n",
        "        x = self.act(self.fc1(x))\n",
        "        x = self.fc2(x)\n",
        "        return x\n",
        "\n",
        "device = torch.device('cuda' if torch.cuda.is_available() else 'cpu')\n",
        "model = MLP().to(device)\n",
        "\n",
        "# 3. 학습 설정\n",
        "criterion = nn.CrossEntropyLoss()                        # 다중분류용 손실\n",
        "optimizer = optim.SGD(model.parameters(), lr=0.1)        # SGD, lr=0.1\n",
        "epochs = 10\n",
        "loss_history = []\n",
        "start_time = time.time()\n",
        "\n",
        "# 4. 학습\n",
        "for epoch in range(epochs):\n",
        "    model.train()\n",
        "    running_loss = 0.0\n",
        "\n",
        "    for images, labels in trainloader:\n",
        "        images, labels = images.to(device), labels.to(device)\n",
        "\n",
        "        optimizer.zero_grad()\n",
        "        outputs = model(images)              # 순전파\n",
        "        loss = criterion(outputs, labels)    # 손실 계산\n",
        "        loss.backward()                      # 역전파\n",
        "        optimizer.step()                     # 가중치 업데이트\n",
        "\n",
        "        running_loss += loss.item() * images.size(0)\n",
        "\n",
        "    epoch_loss = running_loss / len(trainloader.dataset)\n",
        "    loss_history.append(epoch_loss)\n",
        "    print(f'Epoch [{epoch+1}/{epochs}]  Loss: {epoch_loss:.4f}')\n",
        "\n",
        "total_time = time.time() - start_time\n",
        "print(f'\\n총 학습 시간: {total_time:.2f}초')\n",
        "\n",
        "# 5. 테스트 평가\n",
        "model.eval()\n",
        "test_loss, correct = 0.0, 0\n",
        "\n",
        "with torch.no_grad():\n",
        "    for images, labels in testloader:\n",
        "        images, labels = images.to(device), labels.to(device)\n",
        "        outputs = model(images)\n",
        "        test_loss += criterion(outputs, labels).item() * images.size(0)\n",
        "        preds = outputs.argmax(dim=1)\n",
        "        correct += (preds == labels).sum().item()\n",
        "\n",
        "test_loss /= len(testloader.dataset)\n",
        "accuracy  = correct / len(testloader.dataset) * 100\n",
        "print(f'Test Loss: {test_loss:.4f} | Accuracy: {accuracy:.2f}%')\n",
        "\n",
        "# 6. 시각화\n",
        "plt.figure()\n",
        "plt.plot(range(1, epochs+1), loss_history, marker='o')\n",
        "plt.title('Training Loss Curve')\n",
        "plt.xlabel('Epoch')\n",
        "plt.ylabel('Loss')\n",
        "plt.grid(True)\n",
        "plt.show()"
      ]
    }
  ]
}